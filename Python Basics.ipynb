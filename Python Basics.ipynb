{
 "cells": [
  {
   "cell_type": "code",
   "execution_count": 1,
   "id": "74263451",
   "metadata": {},
   "outputs": [
    {
     "name": "stdout",
     "output_type": "stream",
     "text": [
      "my name is john , and I am 36\n"
     ]
    }
   ],
   "source": [
    "#format\n",
    "name = \"john\"\n",
    "age = 36\n",
    "txt = \"my name is {} , and I am {}\".format(name,age)\n",
    "print(txt)"
   ]
  },
  {
   "cell_type": "code",
   "execution_count": 2,
   "id": "52426c6c",
   "metadata": {},
   "outputs": [
    {
     "name": "stdout",
     "output_type": "stream",
     "text": [
      "orl\n"
     ]
    }
   ],
   "source": [
    "a = 'hello world!'\n",
    "print(a[-5:-2])"
   ]
  },
  {
   "cell_type": "code",
   "execution_count": 3,
   "id": "c4afc547",
   "metadata": {},
   "outputs": [
    {
     "name": "stdout",
     "output_type": "stream",
     "text": [
      "hai siva\n"
     ]
    }
   ],
   "source": [
    "#concatenation\n",
    "a = \"hai\"\n",
    "b = \"siva\"\n",
    "c = a + \" \" + b\n",
    "print(c)"
   ]
  },
  {
   "cell_type": "code",
   "execution_count": 5,
   "id": "83e77cff",
   "metadata": {},
   "outputs": [
    {
     "name": "stdout",
     "output_type": "stream",
     "text": [
      "7.0\n",
      "7\n",
      "<class 'int'>\n",
      "<class 'complex'>\n"
     ]
    }
   ],
   "source": [
    "a = 7\n",
    "print(float(a))\n",
    "\n",
    "b = 7.9\n",
    "print(int(b))\n",
    "\n",
    "a = 35\n",
    "print(type(a))\n",
    "\n",
    "d = 4j\n",
    "print(type(d))"
   ]
  },
  {
   "cell_type": "code",
   "execution_count": 6,
   "id": "73d3db54",
   "metadata": {},
   "outputs": [
    {
     "name": "stdout",
     "output_type": "stream",
     "text": [
      "('a', 'c', 'e', 'g')\n"
     ]
    }
   ],
   "source": [
    "#slicing\n",
    "\n",
    "num = (\"a\",\"b\",\"c\",\"d\",\"e\",\"f\",\"g\",\"h\")\n",
    "x = slice(0,7,2) \n",
    "print(num[x])"
   ]
  },
  {
   "cell_type": "code",
   "execution_count": 7,
   "id": "73598b71",
   "metadata": {},
   "outputs": [
    {
     "name": "stdout",
     "output_type": "stream",
     "text": [
      "['abc', 34, True, 45, 'siva']\n",
      "<class 'list'>\n"
     ]
    }
   ],
   "source": [
    "#List\n",
    "\n",
    "a = [\"abc\",34,True,45,\"siva\"]\n",
    "print(a)\n",
    "print(type(a))a = [\"abc\",34,True,45,\"siva\"]\n",
    "b = [\"sivasankar\",63,\"papa\"]\n",
    "a.extend(b)\n",
    "print(a)"
   ]
  },
  {
   "cell_type": "code",
   "execution_count": 8,
   "id": "59a0962c",
   "metadata": {},
   "outputs": [
    {
     "data": {
      "text/plain": [
       "['sankar', 34, True, 45, 'siva']"
      ]
     },
     "execution_count": 8,
     "metadata": {},
     "output_type": "execute_result"
    }
   ],
   "source": [
    "a[0] = \"sankar\"\n",
    "a"
   ]
  },
  {
   "cell_type": "code",
   "execution_count": 9,
   "id": "96c080f6",
   "metadata": {},
   "outputs": [
    {
     "name": "stdout",
     "output_type": "stream",
     "text": [
      "['abc', 34, True, 45, 'siva', 'narayanan']\n"
     ]
    }
   ],
   "source": [
    "a = [\"abc\",34,True,45,\"siva\"]\n",
    "a.append(\"narayanan\")\n",
    "print(a)"
   ]
  },
  {
   "cell_type": "code",
   "execution_count": 10,
   "id": "cc05c132",
   "metadata": {},
   "outputs": [
    {
     "data": {
      "text/plain": [
       "['abc', 34, True, 'siva', 'narayanan']"
      ]
     },
     "execution_count": 10,
     "metadata": {},
     "output_type": "execute_result"
    }
   ],
   "source": [
    "a.remove(45)\n",
    "a"
   ]
  },
  {
   "cell_type": "code",
   "execution_count": 11,
   "id": "a4dabe89",
   "metadata": {},
   "outputs": [
    {
     "data": {
      "text/plain": [
       "['abc', 34, 'papa', True, 'siva', 'narayanan']"
      ]
     },
     "execution_count": 11,
     "metadata": {},
     "output_type": "execute_result"
    }
   ],
   "source": [
    "a.insert(2,\"papa\")\n",
    "a"
   ]
  },
  {
   "cell_type": "code",
   "execution_count": 12,
   "id": "cf0a5e6b",
   "metadata": {},
   "outputs": [
    {
     "name": "stdout",
     "output_type": "stream",
     "text": [
      "papa\n"
     ]
    }
   ],
   "source": [
    "print(a[2])"
   ]
  },
  {
   "cell_type": "code",
   "execution_count": 13,
   "id": "7d2268a4",
   "metadata": {},
   "outputs": [
    {
     "data": {
      "text/plain": [
       "34"
      ]
     },
     "execution_count": 13,
     "metadata": {},
     "output_type": "execute_result"
    }
   ],
   "source": [
    "a.pop(1)"
   ]
  },
  {
   "cell_type": "code",
   "execution_count": 14,
   "id": "81d64d3c",
   "metadata": {},
   "outputs": [
    {
     "name": "stdout",
     "output_type": "stream",
     "text": [
      "['abc', 34, True, 'siva']\n",
      "['p', 'r', 'm']\n"
     ]
    }
   ],
   "source": [
    "a = [\"abc\",34,True,45,\"siva\"]\n",
    "del a[3]\n",
    "print(a)\n",
    "\n",
    "a = ['p','r','o','b','l','e','m']\n",
    "del a[2:6]\n",
    "print(a)"
   ]
  },
  {
   "cell_type": "code",
   "execution_count": 15,
   "id": "36eb35b2",
   "metadata": {},
   "outputs": [
    {
     "name": "stdout",
     "output_type": "stream",
     "text": [
      "['abc', 34, True, 45, 'siva', 'sivasankar', 63, 'papa']\n"
     ]
    }
   ],
   "source": [
    "a = [\"abc\",34,True,45,\"siva\"]\n",
    "b = [\"sivasankar\",63,\"papa\"]\n",
    "a.extend(b)\n",
    "print(a)"
   ]
  },
  {
   "cell_type": "code",
   "execution_count": 16,
   "id": "87efcae6",
   "metadata": {},
   "outputs": [
    {
     "name": "stdout",
     "output_type": "stream",
     "text": [
      "('apple', True, 'orange', 'mango', 'banana', 45)\n",
      "<class 'tuple'>\n"
     ]
    }
   ],
   "source": [
    "fruits = (\"apple\",True,\"orange\",\"mango\",\"banana\",45)\n",
    "print(fruits)\n",
    "print(type(fruits))"
   ]
  },
  {
   "cell_type": "code",
   "execution_count": 17,
   "id": "3b46e75e",
   "metadata": {},
   "outputs": [
    {
     "name": "stdout",
     "output_type": "stream",
     "text": [
      "6\n"
     ]
    }
   ],
   "source": [
    "print(len(fruits))"
   ]
  },
  {
   "cell_type": "code",
   "execution_count": 18,
   "id": "881490f6",
   "metadata": {},
   "outputs": [
    {
     "name": "stdout",
     "output_type": "stream",
     "text": [
      "<class 'set'>\n"
     ]
    }
   ],
   "source": [
    "fruits = {\"apple\",True,\"orange\",\"mango\",\"banana\",45}\n",
    "print(type(fruits))"
   ]
  },
  {
   "cell_type": "code",
   "execution_count": 19,
   "id": "44f5e610",
   "metadata": {},
   "outputs": [
    {
     "name": "stdout",
     "output_type": "stream",
     "text": [
      "<class 'tuple'>\n"
     ]
    }
   ],
   "source": [
    "print ( type( () ) )"
   ]
  },
  {
   "cell_type": "code",
   "execution_count": 20,
   "id": "93e65d67",
   "metadata": {},
   "outputs": [
    {
     "name": "stdout",
     "output_type": "stream",
     "text": [
      "<class 'list'>\n"
     ]
    }
   ],
   "source": [
    "print ( type( [] ) )"
   ]
  },
  {
   "cell_type": "code",
   "execution_count": 21,
   "id": "18ea27cd",
   "metadata": {},
   "outputs": [
    {
     "name": "stdout",
     "output_type": "stream",
     "text": [
      "<class 'dict'>\n"
     ]
    }
   ],
   "source": [
    "print ( type( {} ) )"
   ]
  },
  {
   "cell_type": "code",
   "execution_count": 22,
   "id": "c23a42cb",
   "metadata": {},
   "outputs": [
    {
     "name": "stdout",
     "output_type": "stream",
     "text": [
      "[23, 36, 86, 99, 100]\n"
     ]
    }
   ],
   "source": [
    "a = [100,86,36,99,23]\n",
    "a.sort()\n",
    "print(a)"
   ]
  },
  {
   "cell_type": "code",
   "execution_count": 23,
   "id": "59e6049b",
   "metadata": {},
   "outputs": [
    {
     "name": "stdout",
     "output_type": "stream",
     "text": [
      "[100, 99, 86, 36, 23]\n"
     ]
    }
   ],
   "source": [
    "a.sort(reverse=True)\n",
    "print(a)"
   ]
  },
  {
   "cell_type": "code",
   "execution_count": 24,
   "id": "1f03f4b8",
   "metadata": {},
   "outputs": [
    {
     "name": "stdout",
     "output_type": "stream",
     "text": [
      "True\n",
      "False\n"
     ]
    }
   ],
   "source": [
    "print (36 in a)\n",
    "\n",
    "print (85 in a)"
   ]
  },
  {
   "cell_type": "code",
   "execution_count": 25,
   "id": "6160a9d2",
   "metadata": {},
   "outputs": [
    {
     "name": "stdout",
     "output_type": "stream",
     "text": [
      "{'name': 'siva', 'age': 19, 'aim': 'software engineering'}\n",
      "<class 'dict'>\n"
     ]
    }
   ],
   "source": [
    "#Dict\n",
    "a = { \"name\" : \"siva\" , \n",
    "     \"age\" : 19 , \n",
    "     \"aim\" : \"software engineering\"\n",
    "    }\n",
    "print(a)\n",
    "print(type(a))"
   ]
  },
  {
   "cell_type": "code",
   "execution_count": 26,
   "id": "2697719a",
   "metadata": {},
   "outputs": [
    {
     "name": "stdout",
     "output_type": "stream",
     "text": [
      "{'name': 'siva', 'age': 26, 'aim': 'software engineering'}\n"
     ]
    }
   ],
   "source": [
    "a [\"age\"] = 26\n",
    "print(a)"
   ]
  },
  {
   "cell_type": "code",
   "execution_count": 27,
   "id": "45fcfc68",
   "metadata": {},
   "outputs": [
    {
     "name": "stdout",
     "output_type": "stream",
     "text": [
      "{'name': 'siva', 'age': 19, 'aim': 'software engineering', 'address': 'TVL'}\n"
     ]
    }
   ],
   "source": [
    "a = { \"name\" : \"siva\" , \n",
    "     \"age\" : 19 , \n",
    "     \"aim\" : \"software engineering\"\n",
    "    }\n",
    "\n",
    "a[\"address\"] = \"TVL\"\n",
    "print(a)"
   ]
  },
  {
   "cell_type": "code",
   "execution_count": 28,
   "id": "a3ea0fde",
   "metadata": {},
   "outputs": [
    {
     "name": "stdout",
     "output_type": "stream",
     "text": [
      "dict_values(['siva', 19, 'software engineering', 'TVL'])\n"
     ]
    }
   ],
   "source": [
    "x = a.values()\n",
    "\n",
    "print(x)"
   ]
  },
  {
   "cell_type": "code",
   "execution_count": 29,
   "id": "ed96d507",
   "metadata": {},
   "outputs": [
    {
     "name": "stdout",
     "output_type": "stream",
     "text": [
      "dict_keys(['name', 'age', 'aim', 'address'])\n"
     ]
    }
   ],
   "source": [
    "f = a.keys()\n",
    "\n",
    "print(f)"
   ]
  },
  {
   "cell_type": "code",
   "execution_count": 30,
   "id": "bb8196bd",
   "metadata": {},
   "outputs": [
    {
     "name": "stdout",
     "output_type": "stream",
     "text": [
      "{'name': 'siva', 'age': 19, 'aim': 'software engineering'}\n"
     ]
    }
   ],
   "source": [
    "a = {'name': 'siva', 'age': 19, 'aim': 'software engineering', 'address': 'TVL'}\n",
    "a.pop(\"address\")\n",
    "print(a)"
   ]
  },
  {
   "cell_type": "code",
   "execution_count": 31,
   "id": "1c12dbe5",
   "metadata": {},
   "outputs": [
    {
     "name": "stdout",
     "output_type": "stream",
     "text": [
      "mango\n"
     ]
    }
   ],
   "source": [
    "a = [\"apple\",\"orange\",\"mango\",\"banana\"]\n",
    "print(a.pop(2))"
   ]
  },
  {
   "cell_type": "code",
   "execution_count": null,
   "id": "e3a78dd3",
   "metadata": {},
   "outputs": [],
   "source": []
  }
 ],
 "metadata": {
  "kernelspec": {
   "display_name": "Python 3 (ipykernel)",
   "language": "python",
   "name": "python3"
  },
  "language_info": {
   "codemirror_mode": {
    "name": "ipython",
    "version": 3
   },
   "file_extension": ".py",
   "mimetype": "text/x-python",
   "name": "python",
   "nbconvert_exporter": "python",
   "pygments_lexer": "ipython3",
   "version": "3.10.5"
  }
 },
 "nbformat": 4,
 "nbformat_minor": 5
}
